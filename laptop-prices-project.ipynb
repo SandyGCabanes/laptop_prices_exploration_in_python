{
 "cells": [
  {
   "cell_type": "code",
   "execution_count": 1,
   "id": "f40f71c4",
   "metadata": {
    "_cell_guid": "b1076dfc-b9ad-4769-8c92-a6c4dae69d19",
    "_uuid": "8f2839f25d086af736a60e9eeb907d3b93b6e0e5",
    "execution": {
     "iopub.execute_input": "2024-08-03T06:31:19.173608Z",
     "iopub.status.busy": "2024-08-03T06:31:19.173119Z",
     "iopub.status.idle": "2024-08-03T06:31:20.111991Z",
     "shell.execute_reply": "2024-08-03T06:31:20.110585Z"
    },
    "jupyter": {
     "source_hidden": true
    },
    "papermill": {
     "duration": 0.954442,
     "end_time": "2024-08-03T06:31:20.115508",
     "exception": false,
     "start_time": "2024-08-03T06:31:19.161066",
     "status": "completed"
    },
    "tags": []
   },
   "outputs": [
    {
     "name": "stdout",
     "output_type": "stream",
     "text": [
      "/kaggle/input/uncleaned-laptop-price-dataset/laptopData.csv\n"
     ]
    }
   ],
   "source": [
    "# This Python 3 environment comes with many helpful analytics libraries installed\n",
    "# It is defined by the kaggle/python Docker image: https://github.com/kaggle/docker-python\n",
    "# For example, here's several helpful packages to load\n",
    "\n",
    "import numpy as np # linear algebra\n",
    "import pandas as pd # data processing, CSV file I/O (e.g. pd.read_csv)\n",
    "\n",
    "# Input data files are available in the read-only \"../input/\" directory\n",
    "# For example, running this (by clicking run or pressing Shift+Enter) will list all files under the input directory\n",
    "\n",
    "import os\n",
    "for dirname, _, filenames in os.walk('/kaggle/input'):\n",
    "    for filename in filenames:\n",
    "        print(os.path.join(dirname, filename))\n",
    "\n",
    "# You can write up to 20GB to the current directory (/kaggle/working/) that gets preserved as output when you create a version using \"Save & Run All\" \n",
    "# You can also write temporary files to /kaggle/temp/, but they won't be saved outside of the current session"
   ]
  },
  {
   "cell_type": "markdown",
   "id": "6c51ee33",
   "metadata": {
    "papermill": {
     "duration": 0.009741,
     "end_time": "2024-08-03T06:31:20.135836",
     "exception": false,
     "start_time": "2024-08-03T06:31:20.126095",
     "status": "completed"
    },
    "tags": []
   },
   "source": [
    "# Background behind this exploration:\n",
    "I wanted to see the different types of laptops that would fall in my price range considering that I might upgrade my current laptop after I get my first freelance contract. \n",
    "\n",
    "Per usual, I cleaned all the na's in the dataset and created a working dataframe.\n",
    "\n",
    "I first looked at the first quartile to see if there's anything in the lower price range that might meet my 12GB and 16GB RAM requirements.  \n",
    "As it turns out, nothing met my RAM requirements above. \n",
    "\n",
    "So I moved to the second quartile of price ranges.\n",
    "I was left with 12 options, and only 3 had 16GB RAM.\n",
    "\n",
    "Lastly, I printed out the 3 options at 16GB and that have lower price.  "
   ]
  },
  {
   "cell_type": "markdown",
   "id": "be855c39",
   "metadata": {
    "papermill": {
     "duration": 0.009721,
     "end_time": "2024-08-03T06:31:20.155802",
     "exception": false,
     "start_time": "2024-08-03T06:31:20.146081",
     "status": "completed"
    },
    "tags": []
   },
   "source": []
  },
  {
   "cell_type": "markdown",
   "id": "b33e976a",
   "metadata": {
    "papermill": {
     "duration": 0.009646,
     "end_time": "2024-08-03T06:31:20.175815",
     "exception": false,
     "start_time": "2024-08-03T06:31:20.166169",
     "status": "completed"
    },
    "tags": []
   },
   "source": [
    "# **Purpose of Exploration:**  <br>What are the different kinds of laptops and their price ranges for a person with a certain budget? \n",
    "### Price point is the first decision point, then RAM, then possibly SSD vs. HDD as tiebreaker.  \n",
    "### Brand and company are not as important."
   ]
  },
  {
   "cell_type": "markdown",
   "id": "9e465b98",
   "metadata": {
    "papermill": {
     "duration": 0.009609,
     "end_time": "2024-08-03T06:31:20.195995",
     "exception": false,
     "start_time": "2024-08-03T06:31:20.186386",
     "status": "completed"
    },
    "tags": []
   },
   "source": []
  },
  {
   "cell_type": "markdown",
   "id": "e4cada0c",
   "metadata": {
    "papermill": {
     "duration": 0.009655,
     "end_time": "2024-08-03T06:31:20.215549",
     "exception": false,
     "start_time": "2024-08-03T06:31:20.205894",
     "status": "completed"
    },
    "tags": []
   },
   "source": [
    "# Importing the dataset, df0 is original, df is the working dataset\n",
    "/kaggle/input/uncleaned-laptop-price-dataset/laptopData.csv<br>\n",
    "df0 is the original dataset<br>\n",
    "df is the dataset with dropped na's<br>"
   ]
  },
  {
   "cell_type": "code",
   "execution_count": 2,
   "id": "1d4e96aa",
   "metadata": {
    "execution": {
     "iopub.execute_input": "2024-08-03T06:31:20.237557Z",
     "iopub.status.busy": "2024-08-03T06:31:20.237003Z",
     "iopub.status.idle": "2024-08-03T06:31:20.293297Z",
     "shell.execute_reply": "2024-08-03T06:31:20.292024Z"
    },
    "papermill": {
     "duration": 0.070385,
     "end_time": "2024-08-03T06:31:20.296047",
     "exception": false,
     "start_time": "2024-08-03T06:31:20.225662",
     "status": "completed"
    },
    "tags": []
   },
   "outputs": [
    {
     "data": {
      "text/html": [
       "<div>\n",
       "<style scoped>\n",
       "    .dataframe tbody tr th:only-of-type {\n",
       "        vertical-align: middle;\n",
       "    }\n",
       "\n",
       "    .dataframe tbody tr th {\n",
       "        vertical-align: top;\n",
       "    }\n",
       "\n",
       "    .dataframe thead th {\n",
       "        text-align: right;\n",
       "    }\n",
       "</style>\n",
       "<table border=\"1\" class=\"dataframe\">\n",
       "  <thead>\n",
       "    <tr style=\"text-align: right;\">\n",
       "      <th></th>\n",
       "      <th>Unnamed: 0</th>\n",
       "      <th>Company</th>\n",
       "      <th>TypeName</th>\n",
       "      <th>Inches</th>\n",
       "      <th>ScreenResolution</th>\n",
       "      <th>Cpu</th>\n",
       "      <th>Ram</th>\n",
       "      <th>Memory</th>\n",
       "      <th>Gpu</th>\n",
       "      <th>OpSys</th>\n",
       "      <th>Weight</th>\n",
       "      <th>Price</th>\n",
       "    </tr>\n",
       "  </thead>\n",
       "  <tbody>\n",
       "    <tr>\n",
       "      <th>0</th>\n",
       "      <td>0.0</td>\n",
       "      <td>Apple</td>\n",
       "      <td>Ultrabook</td>\n",
       "      <td>13.3</td>\n",
       "      <td>IPS Panel Retina Display 2560x1600</td>\n",
       "      <td>Intel Core i5 2.3GHz</td>\n",
       "      <td>8GB</td>\n",
       "      <td>128GB SSD</td>\n",
       "      <td>Intel Iris Plus Graphics 640</td>\n",
       "      <td>macOS</td>\n",
       "      <td>1.37kg</td>\n",
       "      <td>71378.6832</td>\n",
       "    </tr>\n",
       "    <tr>\n",
       "      <th>1</th>\n",
       "      <td>1.0</td>\n",
       "      <td>Apple</td>\n",
       "      <td>Ultrabook</td>\n",
       "      <td>13.3</td>\n",
       "      <td>1440x900</td>\n",
       "      <td>Intel Core i5 1.8GHz</td>\n",
       "      <td>8GB</td>\n",
       "      <td>128GB Flash Storage</td>\n",
       "      <td>Intel HD Graphics 6000</td>\n",
       "      <td>macOS</td>\n",
       "      <td>1.34kg</td>\n",
       "      <td>47895.5232</td>\n",
       "    </tr>\n",
       "    <tr>\n",
       "      <th>2</th>\n",
       "      <td>2.0</td>\n",
       "      <td>HP</td>\n",
       "      <td>Notebook</td>\n",
       "      <td>15.6</td>\n",
       "      <td>Full HD 1920x1080</td>\n",
       "      <td>Intel Core i5 7200U 2.5GHz</td>\n",
       "      <td>8GB</td>\n",
       "      <td>256GB SSD</td>\n",
       "      <td>Intel HD Graphics 620</td>\n",
       "      <td>No OS</td>\n",
       "      <td>1.86kg</td>\n",
       "      <td>30636.0000</td>\n",
       "    </tr>\n",
       "    <tr>\n",
       "      <th>3</th>\n",
       "      <td>3.0</td>\n",
       "      <td>Apple</td>\n",
       "      <td>Ultrabook</td>\n",
       "      <td>15.4</td>\n",
       "      <td>IPS Panel Retina Display 2880x1800</td>\n",
       "      <td>Intel Core i7 2.7GHz</td>\n",
       "      <td>16GB</td>\n",
       "      <td>512GB SSD</td>\n",
       "      <td>AMD Radeon Pro 455</td>\n",
       "      <td>macOS</td>\n",
       "      <td>1.83kg</td>\n",
       "      <td>135195.3360</td>\n",
       "    </tr>\n",
       "    <tr>\n",
       "      <th>4</th>\n",
       "      <td>4.0</td>\n",
       "      <td>Apple</td>\n",
       "      <td>Ultrabook</td>\n",
       "      <td>13.3</td>\n",
       "      <td>IPS Panel Retina Display 2560x1600</td>\n",
       "      <td>Intel Core i5 3.1GHz</td>\n",
       "      <td>8GB</td>\n",
       "      <td>256GB SSD</td>\n",
       "      <td>Intel Iris Plus Graphics 650</td>\n",
       "      <td>macOS</td>\n",
       "      <td>1.37kg</td>\n",
       "      <td>96095.8080</td>\n",
       "    </tr>\n",
       "  </tbody>\n",
       "</table>\n",
       "</div>"
      ],
      "text/plain": [
       "   Unnamed: 0 Company   TypeName Inches                    ScreenResolution  \\\n",
       "0         0.0   Apple  Ultrabook   13.3  IPS Panel Retina Display 2560x1600   \n",
       "1         1.0   Apple  Ultrabook   13.3                            1440x900   \n",
       "2         2.0      HP   Notebook   15.6                   Full HD 1920x1080   \n",
       "3         3.0   Apple  Ultrabook   15.4  IPS Panel Retina Display 2880x1800   \n",
       "4         4.0   Apple  Ultrabook   13.3  IPS Panel Retina Display 2560x1600   \n",
       "\n",
       "                          Cpu   Ram               Memory  \\\n",
       "0        Intel Core i5 2.3GHz   8GB            128GB SSD   \n",
       "1        Intel Core i5 1.8GHz   8GB  128GB Flash Storage   \n",
       "2  Intel Core i5 7200U 2.5GHz   8GB            256GB SSD   \n",
       "3        Intel Core i7 2.7GHz  16GB            512GB SSD   \n",
       "4        Intel Core i5 3.1GHz   8GB            256GB SSD   \n",
       "\n",
       "                            Gpu  OpSys  Weight        Price  \n",
       "0  Intel Iris Plus Graphics 640  macOS  1.37kg   71378.6832  \n",
       "1        Intel HD Graphics 6000  macOS  1.34kg   47895.5232  \n",
       "2         Intel HD Graphics 620  No OS  1.86kg   30636.0000  \n",
       "3            AMD Radeon Pro 455  macOS  1.83kg  135195.3360  \n",
       "4  Intel Iris Plus Graphics 650  macOS  1.37kg   96095.8080  "
      ]
     },
     "execution_count": 2,
     "metadata": {},
     "output_type": "execute_result"
    }
   ],
   "source": [
    "df0 = pd.read_csv('/kaggle/input/uncleaned-laptop-price-dataset/laptopData.csv')\n",
    "df0.head()\n"
   ]
  },
  {
   "cell_type": "markdown",
   "id": "f75d8bf4",
   "metadata": {
    "papermill": {
     "duration": 0.010065,
     "end_time": "2024-08-03T06:31:20.318104",
     "exception": false,
     "start_time": "2024-08-03T06:31:20.308039",
     "status": "completed"
    },
    "tags": []
   },
   "source": [
    "# Data Exploration"
   ]
  },
  {
   "cell_type": "code",
   "execution_count": 3,
   "id": "0cc73c84",
   "metadata": {
    "execution": {
     "iopub.execute_input": "2024-08-03T06:31:20.341920Z",
     "iopub.status.busy": "2024-08-03T06:31:20.340738Z",
     "iopub.status.idle": "2024-08-03T06:31:20.368403Z",
     "shell.execute_reply": "2024-08-03T06:31:20.367178Z"
    },
    "papermill": {
     "duration": 0.042873,
     "end_time": "2024-08-03T06:31:20.371341",
     "exception": false,
     "start_time": "2024-08-03T06:31:20.328468",
     "status": "completed"
    },
    "tags": []
   },
   "outputs": [
    {
     "name": "stdout",
     "output_type": "stream",
     "text": [
      "<class 'pandas.core.frame.DataFrame'>\n",
      "RangeIndex: 1303 entries, 0 to 1302\n",
      "Data columns (total 12 columns):\n",
      " #   Column            Non-Null Count  Dtype  \n",
      "---  ------            --------------  -----  \n",
      " 0   Unnamed: 0        1273 non-null   float64\n",
      " 1   Company           1273 non-null   object \n",
      " 2   TypeName          1273 non-null   object \n",
      " 3   Inches            1273 non-null   object \n",
      " 4   ScreenResolution  1273 non-null   object \n",
      " 5   Cpu               1273 non-null   object \n",
      " 6   Ram               1273 non-null   object \n",
      " 7   Memory            1273 non-null   object \n",
      " 8   Gpu               1273 non-null   object \n",
      " 9   OpSys             1273 non-null   object \n",
      " 10  Weight            1273 non-null   object \n",
      " 11  Price             1273 non-null   float64\n",
      "dtypes: float64(2), object(10)\n",
      "memory usage: 122.3+ KB\n"
     ]
    }
   ],
   "source": [
    "df0.info()"
   ]
  },
  {
   "cell_type": "code",
   "execution_count": 4,
   "id": "81629b6e",
   "metadata": {
    "execution": {
     "iopub.execute_input": "2024-08-03T06:31:20.394223Z",
     "iopub.status.busy": "2024-08-03T06:31:20.393814Z",
     "iopub.status.idle": "2024-08-03T06:31:20.405293Z",
     "shell.execute_reply": "2024-08-03T06:31:20.403814Z"
    },
    "papermill": {
     "duration": 0.026006,
     "end_time": "2024-08-03T06:31:20.407915",
     "exception": false,
     "start_time": "2024-08-03T06:31:20.381909",
     "status": "completed"
    },
    "tags": []
   },
   "outputs": [
    {
     "data": {
      "text/plain": [
       "Unnamed: 0          30\n",
       "Company             30\n",
       "TypeName            30\n",
       "Inches              30\n",
       "ScreenResolution    30\n",
       "Cpu                 30\n",
       "Ram                 30\n",
       "Memory              30\n",
       "Gpu                 30\n",
       "OpSys               30\n",
       "Weight              30\n",
       "Price               30\n",
       "dtype: int64"
      ]
     },
     "execution_count": 4,
     "metadata": {},
     "output_type": "execute_result"
    }
   ],
   "source": [
    "df0.isna().sum()"
   ]
  },
  {
   "cell_type": "code",
   "execution_count": 5,
   "id": "9f7a14a2",
   "metadata": {
    "execution": {
     "iopub.execute_input": "2024-08-03T06:31:20.430745Z",
     "iopub.status.busy": "2024-08-03T06:31:20.430375Z",
     "iopub.status.idle": "2024-08-03T06:31:20.438055Z",
     "shell.execute_reply": "2024-08-03T06:31:20.436744Z"
    },
    "papermill": {
     "duration": 0.022268,
     "end_time": "2024-08-03T06:31:20.440787",
     "exception": false,
     "start_time": "2024-08-03T06:31:20.418519",
     "status": "completed"
    },
    "tags": []
   },
   "outputs": [
    {
     "data": {
      "text/plain": [
       "65.15"
      ]
     },
     "execution_count": 5,
     "metadata": {},
     "output_type": "execute_result"
    }
   ],
   "source": [
    "limit_drop = len(df0) *.05\n",
    "limit_drop"
   ]
  },
  {
   "cell_type": "markdown",
   "id": "4741cf89",
   "metadata": {
    "papermill": {
     "duration": 0.01049,
     "end_time": "2024-08-03T06:31:20.462186",
     "exception": false,
     "start_time": "2024-08-03T06:31:20.451696",
     "status": "completed"
    },
    "tags": []
   },
   "source": [
    "### 30 is much smaller than 65 so we can drop all the na's"
   ]
  },
  {
   "cell_type": "markdown",
   "id": "5bcc9843",
   "metadata": {
    "papermill": {
     "duration": 0.011766,
     "end_time": "2024-08-03T06:31:20.484635",
     "exception": false,
     "start_time": "2024-08-03T06:31:20.472869",
     "status": "completed"
    },
    "tags": []
   },
   "source": [
    "# Data Cleaning by dropping na's"
   ]
  },
  {
   "cell_type": "code",
   "execution_count": 6,
   "id": "8096f308",
   "metadata": {
    "execution": {
     "iopub.execute_input": "2024-08-03T06:31:20.508330Z",
     "iopub.status.busy": "2024-08-03T06:31:20.507867Z",
     "iopub.status.idle": "2024-08-03T06:31:20.524239Z",
     "shell.execute_reply": "2024-08-03T06:31:20.522902Z"
    },
    "papermill": {
     "duration": 0.031141,
     "end_time": "2024-08-03T06:31:20.526922",
     "exception": false,
     "start_time": "2024-08-03T06:31:20.495781",
     "status": "completed"
    },
    "tags": []
   },
   "outputs": [
    {
     "data": {
      "text/plain": [
       "Unnamed: 0          0\n",
       "Company             0\n",
       "TypeName            0\n",
       "Inches              0\n",
       "ScreenResolution    0\n",
       "Cpu                 0\n",
       "Ram                 0\n",
       "Memory              0\n",
       "Gpu                 0\n",
       "OpSys               0\n",
       "Weight              0\n",
       "Price               0\n",
       "dtype: int64"
      ]
     },
     "execution_count": 6,
     "metadata": {},
     "output_type": "execute_result"
    }
   ],
   "source": [
    "df = df0.dropna()\n",
    "df.isna().sum()"
   ]
  },
  {
   "cell_type": "markdown",
   "id": "b8a5b04d",
   "metadata": {
    "papermill": {
     "duration": 0.010484,
     "end_time": "2024-08-03T06:31:20.548856",
     "exception": false,
     "start_time": "2024-08-03T06:31:20.538372",
     "status": "completed"
    },
    "tags": []
   },
   "source": [
    "# Checking out the data that what we have"
   ]
  },
  {
   "cell_type": "code",
   "execution_count": 7,
   "id": "d70b2d4d",
   "metadata": {
    "execution": {
     "iopub.execute_input": "2024-08-03T06:31:20.573171Z",
     "iopub.status.busy": "2024-08-03T06:31:20.572018Z",
     "iopub.status.idle": "2024-08-03T06:31:20.580105Z",
     "shell.execute_reply": "2024-08-03T06:31:20.579066Z"
    },
    "papermill": {
     "duration": 0.02258,
     "end_time": "2024-08-03T06:31:20.582347",
     "exception": false,
     "start_time": "2024-08-03T06:31:20.559767",
     "status": "completed"
    },
    "tags": []
   },
   "outputs": [
    {
     "data": {
      "text/plain": [
       "['Unnamed: 0',\n",
       " 'Company',\n",
       " 'TypeName',\n",
       " 'Inches',\n",
       " 'ScreenResolution',\n",
       " 'Cpu',\n",
       " 'Ram',\n",
       " 'Memory',\n",
       " 'Gpu',\n",
       " 'OpSys',\n",
       " 'Weight',\n",
       " 'Price']"
      ]
     },
     "execution_count": 7,
     "metadata": {},
     "output_type": "execute_result"
    }
   ],
   "source": [
    "listcols = list(df.columns)\n",
    "listcols"
   ]
  },
  {
   "cell_type": "code",
   "execution_count": 8,
   "id": "1c469dc4",
   "metadata": {
    "execution": {
     "iopub.execute_input": "2024-08-03T06:31:20.606399Z",
     "iopub.status.busy": "2024-08-03T06:31:20.605977Z",
     "iopub.status.idle": "2024-08-03T06:31:20.611831Z",
     "shell.execute_reply": "2024-08-03T06:31:20.610700Z"
    },
    "papermill": {
     "duration": 0.021084,
     "end_time": "2024-08-03T06:31:20.614466",
     "exception": false,
     "start_time": "2024-08-03T06:31:20.593382",
     "status": "completed"
    },
    "tags": []
   },
   "outputs": [],
   "source": [
    "listcols = ['Company', 'TypeName', 'Inches', 'ScreenResolution', \\\n",
    "            'Cpu', 'Ram', 'Memory', 'Gpu', 'OpSys', 'Weight', 'Price']"
   ]
  },
  {
   "cell_type": "code",
   "execution_count": 9,
   "id": "3f96f441",
   "metadata": {
    "execution": {
     "iopub.execute_input": "2024-08-03T06:31:20.638791Z",
     "iopub.status.busy": "2024-08-03T06:31:20.638341Z",
     "iopub.status.idle": "2024-08-03T06:31:20.670228Z",
     "shell.execute_reply": "2024-08-03T06:31:20.668770Z"
    },
    "papermill": {
     "duration": 0.048187,
     "end_time": "2024-08-03T06:31:20.673940",
     "exception": false,
     "start_time": "2024-08-03T06:31:20.625753",
     "status": "completed"
    },
    "tags": []
   },
   "outputs": [
    {
     "name": "stdout",
     "output_type": "stream",
     "text": [
      "----------------------------------------\n",
      "Company\n",
      "Lenovo       290\n",
      "Dell         287\n",
      "HP           266\n",
      "Asus         156\n",
      "Acer         103\n",
      "MSI           53\n",
      "Toshiba       47\n",
      "Apple         21\n",
      "Samsung        9\n",
      "Mediacom       7\n",
      "Razer          7\n",
      "Microsoft      6\n",
      "Xiaomi         4\n",
      "Vero           4\n",
      "Chuwi          3\n",
      "Google         3\n",
      "LG             3\n",
      "Huawei         2\n",
      "Fujitsu        2\n",
      "Name: count, dtype: int64\n",
      "----------------------------------------\n",
      "TypeName\n",
      "Notebook              710\n",
      "Gaming                203\n",
      "Ultrabook             191\n",
      "2 in 1 Convertible    116\n",
      "Workstation            29\n",
      "Netbook                24\n",
      "Name: count, dtype: int64\n",
      "----------------------------------------\n",
      "Inches\n",
      "15.6    640\n",
      "14      192\n",
      "17.3    162\n",
      "13.3    161\n",
      "12.5     38\n",
      "11.6     31\n",
      "12        6\n",
      "13.9      6\n",
      "13.5      5\n",
      "12.3      5\n",
      "15.4      4\n",
      "15        4\n",
      "10.1      3\n",
      "35.6      3\n",
      "24        2\n",
      "13        2\n",
      "18.4      1\n",
      "27.3      1\n",
      "33.5      1\n",
      "?         1\n",
      "31.6      1\n",
      "17        1\n",
      "14.1      1\n",
      "11.3      1\n",
      "25.6      1\n",
      "Name: count, dtype: int64\n",
      "----------------------------------------\n",
      "ScreenResolution\n",
      "Full HD 1920x1080                                495\n",
      "1366x768                                         274\n",
      "IPS Panel Full HD 1920x1080                      226\n",
      "IPS Panel Full HD / Touchscreen 1920x1080         52\n",
      "Full HD / Touchscreen 1920x1080                   45\n",
      "1600x900                                          23\n",
      "Touchscreen 1366x768                              16\n",
      "Quad HD+ / Touchscreen 3200x1800                  14\n",
      "IPS Panel 4K Ultra HD 3840x2160                   12\n",
      "IPS Panel 4K Ultra HD / Touchscreen 3840x2160     11\n",
      "4K Ultra HD / Touchscreen 3840x2160                9\n",
      "4K Ultra HD 3840x2160                              7\n",
      "IPS Panel 1366x768                                 7\n",
      "IPS Panel Retina Display 2560x1600                 6\n",
      "IPS Panel Quad HD+ / Touchscreen 3200x1800         6\n",
      "Touchscreen 2560x1440                              6\n",
      "IPS Panel Retina Display 2304x1440                 6\n",
      "Touchscreen 2256x1504                              6\n",
      "IPS Panel Touchscreen 2560x1440                    5\n",
      "IPS Panel Retina Display 2880x1800                 4\n",
      "IPS Panel 2560x1440                                4\n",
      "1440x900                                           4\n",
      "1920x1080                                          3\n",
      "IPS Panel Touchscreen 1920x1200                    3\n",
      "Quad HD+ 3200x1800                                 3\n",
      "Touchscreen 2400x1600                              3\n",
      "2560x1440                                          3\n",
      "IPS Panel Quad HD+ 2560x1440                       3\n",
      "IPS Panel Touchscreen 1366x768                     3\n",
      "IPS Panel Quad HD+ 3200x1800                       2\n",
      "IPS Panel Touchscreen / 4K Ultra HD 3840x2160      2\n",
      "IPS Panel Full HD 2160x1440                        2\n",
      "IPS Panel Full HD 1920x1200                        1\n",
      "IPS Panel Retina Display 2736x1824                 1\n",
      "IPS Panel Full HD 2560x1440                        1\n",
      "Touchscreen / Full HD 1920x1080                    1\n",
      "IPS Panel Full HD 1366x768                         1\n",
      "Touchscreen / Quad HD+ 3200x1800                   1\n",
      "Touchscreen / 4K Ultra HD 3840x2160                1\n",
      "IPS Panel Touchscreen 2400x1600                    1\n",
      "Name: count, dtype: int64\n",
      "----------------------------------------\n",
      "Cpu\n",
      "Intel Core i5 7200U 2.5GHz              183\n",
      "Intel Core i7 7700HQ 2.8GHz             142\n",
      "Intel Core i7 7500U 2.7GHz              128\n",
      "Intel Core i7 8550U 1.8GHz               72\n",
      "Intel Core i5 8250U 1.6GHz               68\n",
      "                                       ... \n",
      "Intel Core i5 2.9GHz                      1\n",
      "AMD E-Series 9000 2.2GHz                  1\n",
      "Intel Core i7 2.7GHz                      1\n",
      "Intel Celeron Quad Core N3710 1.6GHz      1\n",
      "AMD E-Series 9000e 1.5GHz                 1\n",
      "Name: count, Length: 118, dtype: int64\n",
      "----------------------------------------\n",
      "Ram\n",
      "8GB     601\n",
      "4GB     367\n",
      "16GB    194\n",
      "6GB      40\n",
      "12GB     25\n",
      "2GB      22\n",
      "32GB     17\n",
      "64GB      3\n",
      "24GB      3\n",
      "1GB       1\n",
      "Name: count, dtype: int64\n",
      "----------------------------------------\n",
      "Memory\n",
      "256GB SSD                        401\n",
      "1TB HDD                          217\n",
      "500GB HDD                        130\n",
      "512GB SSD                        116\n",
      "128GB SSD +  1TB HDD              92\n",
      "128GB SSD                         74\n",
      "256GB SSD +  1TB HDD              71\n",
      "32GB Flash Storage                37\n",
      "2TB HDD                           16\n",
      "512GB SSD +  1TB HDD              14\n",
      "64GB Flash Storage                14\n",
      "1TB SSD                           13\n",
      "256GB SSD +  2TB HDD              10\n",
      "1.0TB Hybrid                       9\n",
      "256GB Flash Storage                8\n",
      "16GB Flash Storage                 7\n",
      "32GB SSD                           6\n",
      "180GB SSD                          4\n",
      "128GB Flash Storage                4\n",
      "16GB SSD                           3\n",
      "512GB SSD +  2TB HDD               3\n",
      "1TB SSD +  1TB HDD                 2\n",
      "128GB SSD +  2TB HDD               2\n",
      "256GB SSD +  500GB HDD             2\n",
      "256GB SSD +  256GB SSD             2\n",
      "512GB Flash Storage                2\n",
      "128GB HDD                          1\n",
      "512GB SSD +  1.0TB Hybrid          1\n",
      "1.0TB HDD                          1\n",
      "508GB Hybrid                       1\n",
      "8GB SSD                            1\n",
      "240GB SSD                          1\n",
      "32GB HDD                           1\n",
      "?                                  1\n",
      "64GB SSD                           1\n",
      "1TB HDD +  1TB HDD                 1\n",
      "64GB Flash Storage +  1TB HDD      1\n",
      "512GB SSD +  512GB SSD             1\n",
      "512GB SSD +  256GB SSD             1\n",
      "256GB SSD +  1.0TB Hybrid          1\n",
      "Name: count, dtype: int64\n",
      "----------------------------------------\n",
      "Gpu\n",
      "Intel HD Graphics 620      271\n",
      "Intel HD Graphics 520      181\n",
      "Intel UHD Graphics 620      66\n",
      "Nvidia GeForce GTX 1050     64\n",
      "Nvidia GeForce GTX 1060     48\n",
      "                          ... \n",
      "AMD FirePro W6150M           1\n",
      "Intel HD Graphics 620        1\n",
      "AMD FirePro W4190M           1\n",
      "Nvidia GeForce GTX 940M      1\n",
      "ARM Mali T860 MP4            1\n",
      "Name: count, Length: 110, dtype: int64\n",
      "----------------------------------------\n",
      "OpSys\n",
      "Windows 10      1047\n",
      "No OS             63\n",
      "Linux             61\n",
      "Windows 7         45\n",
      "Chrome OS         27\n",
      "macOS             13\n",
      "Mac OS X           8\n",
      "Windows 10 S       8\n",
      "Android            1\n",
      "Name: count, dtype: int64\n",
      "----------------------------------------\n",
      "Weight\n",
      "2.2kg     111\n",
      "2.1kg      57\n",
      "2.4kg      43\n",
      "2.3kg      41\n",
      "2.5kg      37\n",
      "         ... \n",
      "2.34kg      1\n",
      "1.31kg      1\n",
      "1.55kg      1\n",
      "1.18kg      1\n",
      "4.0kg       1\n",
      "Name: count, Length: 189, dtype: int64\n",
      "----------------------------------------\n",
      "Price\n",
      "79866.7200    14\n",
      "58554.7200    14\n",
      "95850.7200    14\n",
      "69210.7200    11\n",
      "63882.7200    11\n",
      "              ..\n",
      "20965.1472     1\n",
      "18434.3472     1\n",
      "67772.1600     1\n",
      "9270.7200      1\n",
      "28992.3120     1\n",
      "Name: count, Length: 777, dtype: int64\n"
     ]
    }
   ],
   "source": [
    "for item in listcols:\n",
    "    print ('----------------------------------------')\n",
    "    print (df[item].value_counts().sort_values(ascending = False))"
   ]
  },
  {
   "cell_type": "code",
   "execution_count": 10,
   "id": "59d3c5ba",
   "metadata": {
    "execution": {
     "iopub.execute_input": "2024-08-03T06:31:20.699516Z",
     "iopub.status.busy": "2024-08-03T06:31:20.699077Z",
     "iopub.status.idle": "2024-08-03T06:31:22.561246Z",
     "shell.execute_reply": "2024-08-03T06:31:22.559968Z"
    },
    "papermill": {
     "duration": 1.878016,
     "end_time": "2024-08-03T06:31:22.563744",
     "exception": false,
     "start_time": "2024-08-03T06:31:20.685728",
     "status": "completed"
    },
    "tags": []
   },
   "outputs": [
    {
     "name": "stderr",
     "output_type": "stream",
     "text": [
      "/opt/conda/lib/python3.10/site-packages/seaborn/_oldcore.py:1119: FutureWarning: use_inf_as_na option is deprecated and will be removed in a future version. Convert inf values to NaN before operating instead.\n",
      "  with pd.option_context('mode.use_inf_as_na', True):\n"
     ]
    },
    {
     "data": {
      "image/png": "[encoded data removed]",
      "text/plain": [
       "<Figure size 640x480 with 1 Axes>"
      ]
     },
     "metadata": {},
     "output_type": "display_data"
    }
   ],
   "source": [
    "import seaborn as sns\n",
    "import matplotlib.pyplot as plt\n",
    "sns.histplot(data = df['Price'], binwidth = 5000)\n",
    "plt.show()"
   ]
  },
  {
   "cell_type": "code",
   "execution_count": 11,
   "id": "f229d5b9",
   "metadata": {
    "execution": {
     "iopub.execute_input": "2024-08-03T06:31:22.589218Z",
     "iopub.status.busy": "2024-08-03T06:31:22.588774Z",
     "iopub.status.idle": "2024-08-03T06:31:22.602107Z",
     "shell.execute_reply": "2024-08-03T06:31:22.600975Z"
    },
    "papermill": {
     "duration": 0.029222,
     "end_time": "2024-08-03T06:31:22.604792",
     "exception": false,
     "start_time": "2024-08-03T06:31:22.575570",
     "status": "completed"
    },
    "tags": []
   },
   "outputs": [
    {
     "data": {
      "text/plain": [
       "count      1273.000000\n",
       "mean      59955.814073\n",
       "std       37332.251005\n",
       "min        9270.720000\n",
       "25%       31914.720000\n",
       "50%       52161.120000\n",
       "75%       79333.387200\n",
       "max      324954.720000\n",
       "Name: Price, dtype: float64"
      ]
     },
     "execution_count": 11,
     "metadata": {},
     "output_type": "execute_result"
    }
   ],
   "source": [
    "df['Price'].describe()"
   ]
  },
  {
   "cell_type": "markdown",
   "id": "f5c7b491",
   "metadata": {
    "papermill": {
     "duration": 0.011848,
     "end_time": "2024-08-03T06:31:22.629241",
     "exception": false,
     "start_time": "2024-08-03T06:31:22.617393",
     "status": "completed"
    },
    "tags": []
   },
   "source": [
    "# New price bins column using lambda function"
   ]
  },
  {
   "cell_type": "code",
   "execution_count": 12,
   "id": "b6b0314c",
   "metadata": {
    "execution": {
     "iopub.execute_input": "2024-08-03T06:31:22.655297Z",
     "iopub.status.busy": "2024-08-03T06:31:22.654869Z",
     "iopub.status.idle": "2024-08-03T06:31:22.670176Z",
     "shell.execute_reply": "2024-08-03T06:31:22.668438Z"
    },
    "papermill": {
     "duration": 0.031512,
     "end_time": "2024-08-03T06:31:22.672787",
     "exception": false,
     "start_time": "2024-08-03T06:31:22.641275",
     "status": "completed"
    },
    "tags": []
   },
   "outputs": [
    {
     "name": "stderr",
     "output_type": "stream",
     "text": [
      "/tmp/ipykernel_18/1840489113.py:2: SettingWithCopyWarning: \n",
      "A value is trying to be set on a copy of a slice from a DataFrame.\n",
      "Try using .loc[row_indexer,col_indexer] = value instead\n",
      "\n",
      "See the caveats in the documentation: https://pandas.pydata.org/pandas-docs/stable/user_guide/indexing.html#returning-a-view-versus-a-copy\n",
      "  df['price_bins'] = df['Price'].apply(lambda x:\n"
     ]
    },
    {
     "data": {
      "text/plain": [
       "price_bins\n",
       "mid        323\n",
       "low        320\n",
       "premium    318\n",
       "high       312\n",
       "Name: count, dtype: int64"
      ]
     },
     "execution_count": 12,
     "metadata": {},
     "output_type": "execute_result"
    }
   ],
   "source": [
    "bin_limits = [31914.72, 52161.12, 79333.387200]\n",
    "df['price_bins'] = df['Price'].apply(lambda x: \n",
    "    \"low\" if x <= 31914.72 else\n",
    "    \"mid\" if x <= 52161.12 else\n",
    "    \"high\" if x <= 79333.387200 else\n",
    "    \"premium\"\n",
    ")\n",
    "df['price_bins'].value_counts()"
   ]
  },
  {
   "cell_type": "markdown",
   "id": "fcabfdfa",
   "metadata": {
    "papermill": {
     "duration": 0.012604,
     "end_time": "2024-08-03T06:31:22.698303",
     "exception": false,
     "start_time": "2024-08-03T06:31:22.685699",
     "status": "completed"
    },
    "tags": []
   },
   "source": [
    "# Let's see what we have in each bin"
   ]
  },
  {
   "cell_type": "code",
   "execution_count": 13,
   "id": "71b1afad",
   "metadata": {
    "execution": {
     "iopub.execute_input": "2024-08-03T06:31:22.725700Z",
     "iopub.status.busy": "2024-08-03T06:31:22.725298Z",
     "iopub.status.idle": "2024-08-03T06:31:22.743400Z",
     "shell.execute_reply": "2024-08-03T06:31:22.742109Z"
    },
    "papermill": {
     "duration": 0.034417,
     "end_time": "2024-08-03T06:31:22.745967",
     "exception": false,
     "start_time": "2024-08-03T06:31:22.711550",
     "status": "completed"
    },
    "tags": []
   },
   "outputs": [
    {
     "data": {
      "text/html": [
       "<div>\n",
       "<style scoped>\n",
       "    .dataframe tbody tr th:only-of-type {\n",
       "        vertical-align: middle;\n",
       "    }\n",
       "\n",
       "    .dataframe tbody tr th {\n",
       "        vertical-align: top;\n",
       "    }\n",
       "\n",
       "    .dataframe thead th {\n",
       "        text-align: right;\n",
       "    }\n",
       "</style>\n",
       "<table border=\"1\" class=\"dataframe\">\n",
       "  <thead>\n",
       "    <tr style=\"text-align: right;\">\n",
       "      <th></th>\n",
       "      <th>Unnamed: 0</th>\n",
       "      <th>Company</th>\n",
       "      <th>TypeName</th>\n",
       "      <th>Inches</th>\n",
       "      <th>ScreenResolution</th>\n",
       "      <th>Cpu</th>\n",
       "      <th>Ram</th>\n",
       "      <th>Memory</th>\n",
       "      <th>Gpu</th>\n",
       "      <th>OpSys</th>\n",
       "      <th>Weight</th>\n",
       "      <th>Price</th>\n",
       "      <th>price_bins</th>\n",
       "    </tr>\n",
       "  </thead>\n",
       "  <tbody>\n",
       "  </tbody>\n",
       "</table>\n",
       "</div>"
      ],
      "text/plain": [
       "Empty DataFrame\n",
       "Columns: [Unnamed: 0, Company, TypeName, Inches, ScreenResolution, Cpu, Ram, Memory, Gpu, OpSys, Weight, Price, price_bins]\n",
       "Index: []"
      ]
     },
     "execution_count": 13,
     "metadata": {},
     "output_type": "execute_result"
    }
   ],
   "source": [
    "mybudget_laptops = df[(df['price_bins'] == 'low') & (df['Ram'].isin(['12GB','16GB']))]\n",
    "mybudget_laptops"
   ]
  },
  {
   "cell_type": "markdown",
   "id": "f9083fe5",
   "metadata": {
    "papermill": {
     "duration": 0.012373,
     "end_time": "2024-08-03T06:31:22.770939",
     "exception": false,
     "start_time": "2024-08-03T06:31:22.758566",
     "status": "completed"
    },
    "tags": []
   },
   "source": [
    "# Mid price is my new target because of the 12GB and 16GB requirement for my studies"
   ]
  },
  {
   "cell_type": "code",
   "execution_count": 14,
   "id": "48339d85",
   "metadata": {
    "execution": {
     "iopub.execute_input": "2024-08-03T06:31:22.797604Z",
     "iopub.status.busy": "2024-08-03T06:31:22.797208Z",
     "iopub.status.idle": "2024-08-03T06:31:22.824931Z",
     "shell.execute_reply": "2024-08-03T06:31:22.823652Z"
    },
    "papermill": {
     "duration": 0.044599,
     "end_time": "2024-08-03T06:31:22.828010",
     "exception": false,
     "start_time": "2024-08-03T06:31:22.783411",
     "status": "completed"
    },
    "tags": []
   },
   "outputs": [
    {
     "name": "stdout",
     "output_type": "stream",
     "text": [
      "number of options left for me:    12\n"
     ]
    },
    {
     "data": {
      "text/html": [
       "<div>\n",
       "<style scoped>\n",
       "    .dataframe tbody tr th:only-of-type {\n",
       "        vertical-align: middle;\n",
       "    }\n",
       "\n",
       "    .dataframe tbody tr th {\n",
       "        vertical-align: top;\n",
       "    }\n",
       "\n",
       "    .dataframe thead th {\n",
       "        text-align: right;\n",
       "    }\n",
       "</style>\n",
       "<table border=\"1\" class=\"dataframe\">\n",
       "  <thead>\n",
       "    <tr style=\"text-align: right;\">\n",
       "      <th></th>\n",
       "      <th>Unnamed: 0</th>\n",
       "      <th>Company</th>\n",
       "      <th>TypeName</th>\n",
       "      <th>Inches</th>\n",
       "      <th>ScreenResolution</th>\n",
       "      <th>Cpu</th>\n",
       "      <th>Ram</th>\n",
       "      <th>Memory</th>\n",
       "      <th>Gpu</th>\n",
       "      <th>OpSys</th>\n",
       "      <th>Weight</th>\n",
       "      <th>Price</th>\n",
       "      <th>price_bins</th>\n",
       "    </tr>\n",
       "  </thead>\n",
       "  <tbody>\n",
       "    <tr>\n",
       "      <th>69</th>\n",
       "      <td>69.0</td>\n",
       "      <td>Asus</td>\n",
       "      <td>Gaming</td>\n",
       "      <td>17.3</td>\n",
       "      <td>Full HD 1920x1080</td>\n",
       "      <td>Intel Core i7 7700HQ 2.8GHz</td>\n",
       "      <td>12GB</td>\n",
       "      <td>1TB HDD</td>\n",
       "      <td>Nvidia GeForce GTX 1050 Ti</td>\n",
       "      <td>Linux</td>\n",
       "      <td>3kg</td>\n",
       "      <td>50562.7200</td>\n",
       "      <td>mid</td>\n",
       "    </tr>\n",
       "    <tr>\n",
       "      <th>226</th>\n",
       "      <td>226.0</td>\n",
       "      <td>Dell</td>\n",
       "      <td>Notebook</td>\n",
       "      <td>15.6</td>\n",
       "      <td>Full HD / Touchscreen 1920x1080</td>\n",
       "      <td>Intel Core i7 7500U 2.7GHz</td>\n",
       "      <td>16GB</td>\n",
       "      <td>1TB HDD</td>\n",
       "      <td>AMD Radeon R7 M445</td>\n",
       "      <td>Windows 10</td>\n",
       "      <td>2.3kg</td>\n",
       "      <td>45768.0528</td>\n",
       "      <td>mid</td>\n",
       "    </tr>\n",
       "    <tr>\n",
       "      <th>235</th>\n",
       "      <td>235.0</td>\n",
       "      <td>Dell</td>\n",
       "      <td>Notebook</td>\n",
       "      <td>15.6</td>\n",
       "      <td>Full HD 1920x1080</td>\n",
       "      <td>Intel Core i7 7500U 2.7GHz</td>\n",
       "      <td>16GB</td>\n",
       "      <td>256GB SSD</td>\n",
       "      <td>AMD Radeon R7 M445</td>\n",
       "      <td>Linux</td>\n",
       "      <td>2.36kg</td>\n",
       "      <td>47898.7200</td>\n",
       "      <td>mid</td>\n",
       "    </tr>\n",
       "    <tr>\n",
       "      <th>275</th>\n",
       "      <td>275.0</td>\n",
       "      <td>Dell</td>\n",
       "      <td>Notebook</td>\n",
       "      <td>15.6</td>\n",
       "      <td>1366x768</td>\n",
       "      <td>Intel Core i7 7500U 2.7GHz</td>\n",
       "      <td>12GB</td>\n",
       "      <td>1TB HDD</td>\n",
       "      <td>Intel HD Graphics 620</td>\n",
       "      <td>Windows 10</td>\n",
       "      <td>2.3kg</td>\n",
       "      <td>37992.3696</td>\n",
       "      <td>mid</td>\n",
       "    </tr>\n",
       "    <tr>\n",
       "      <th>285</th>\n",
       "      <td>285.0</td>\n",
       "      <td>Acer</td>\n",
       "      <td>Notebook</td>\n",
       "      <td>15.6</td>\n",
       "      <td>IPS Panel Full HD / Touchscreen 1920x1080</td>\n",
       "      <td>Intel Core i7 7500U 2.7GHz</td>\n",
       "      <td>12GB</td>\n",
       "      <td>1TB HDD</td>\n",
       "      <td>Intel HD Graphics 620</td>\n",
       "      <td>Windows 10</td>\n",
       "      <td>2.15kg</td>\n",
       "      <td>35111.5200</td>\n",
       "      <td>mid</td>\n",
       "    </tr>\n",
       "    <tr>\n",
       "      <th>341</th>\n",
       "      <td>341.0</td>\n",
       "      <td>Lenovo</td>\n",
       "      <td>Notebook</td>\n",
       "      <td>15.6</td>\n",
       "      <td>Full HD 1920x1080</td>\n",
       "      <td>AMD A12-Series 9720P 3.6GHz</td>\n",
       "      <td>12GB</td>\n",
       "      <td>2TB HDD</td>\n",
       "      <td>AMD Radeon 530</td>\n",
       "      <td>Windows 10</td>\n",
       "      <td>2.2kg</td>\n",
       "      <td>47898.7200</td>\n",
       "      <td>mid</td>\n",
       "    </tr>\n",
       "    <tr>\n",
       "      <th>392</th>\n",
       "      <td>392.0</td>\n",
       "      <td>Acer</td>\n",
       "      <td>Notebook</td>\n",
       "      <td>15.6</td>\n",
       "      <td>IPS Panel 1366x768</td>\n",
       "      <td>Intel Core i5 8250U 1.6GHz</td>\n",
       "      <td>12GB</td>\n",
       "      <td>1TB HDD</td>\n",
       "      <td>Nvidia GeForce MX130</td>\n",
       "      <td>Windows 10</td>\n",
       "      <td>2.2kg</td>\n",
       "      <td>36975.7872</td>\n",
       "      <td>mid</td>\n",
       "    </tr>\n",
       "    <tr>\n",
       "      <th>588</th>\n",
       "      <td>588.0</td>\n",
       "      <td>Lenovo</td>\n",
       "      <td>Notebook</td>\n",
       "      <td>15.6</td>\n",
       "      <td>Touchscreen 1366x768</td>\n",
       "      <td>Intel Core i7 8550U 1.8GHz</td>\n",
       "      <td>12GB</td>\n",
       "      <td>1TB HDD</td>\n",
       "      <td>Intel HD Graphics 620</td>\n",
       "      <td>Windows 10</td>\n",
       "      <td>2.2kg</td>\n",
       "      <td>32447.5200</td>\n",
       "      <td>mid</td>\n",
       "    </tr>\n",
       "    <tr>\n",
       "      <th>591</th>\n",
       "      <td>591.0</td>\n",
       "      <td>Lenovo</td>\n",
       "      <td>Notebook</td>\n",
       "      <td>15.6</td>\n",
       "      <td>Full HD 1920x1080</td>\n",
       "      <td>AMD A12-Series 9720P 3.6GHz</td>\n",
       "      <td>12GB</td>\n",
       "      <td>512GB SSD</td>\n",
       "      <td>AMD Radeon 530</td>\n",
       "      <td>Windows 10</td>\n",
       "      <td>2.2kg</td>\n",
       "      <td>50562.7200</td>\n",
       "      <td>mid</td>\n",
       "    </tr>\n",
       "    <tr>\n",
       "      <th>611</th>\n",
       "      <td>611.0</td>\n",
       "      <td>Dell</td>\n",
       "      <td>Gaming</td>\n",
       "      <td>15.6</td>\n",
       "      <td>Full HD 1920x1080</td>\n",
       "      <td>Intel Core i7 6700HQ 2.6GHz</td>\n",
       "      <td>16GB</td>\n",
       "      <td>1TB HDD</td>\n",
       "      <td>Nvidia GeForce GTX 960&lt;U+039C&gt;</td>\n",
       "      <td>Windows 10</td>\n",
       "      <td>2.59kg</td>\n",
       "      <td>46833.6528</td>\n",
       "      <td>mid</td>\n",
       "    </tr>\n",
       "    <tr>\n",
       "      <th>731</th>\n",
       "      <td>731.0</td>\n",
       "      <td>Dell</td>\n",
       "      <td>Notebook</td>\n",
       "      <td>15.6</td>\n",
       "      <td>1366x768</td>\n",
       "      <td>Intel Core i5 7200U 2.5GHz</td>\n",
       "      <td>12GB</td>\n",
       "      <td>1TB HDD</td>\n",
       "      <td>Intel HD Graphics 620</td>\n",
       "      <td>Windows 10</td>\n",
       "      <td>2.25kg</td>\n",
       "      <td>34578.7200</td>\n",
       "      <td>mid</td>\n",
       "    </tr>\n",
       "    <tr>\n",
       "      <th>775</th>\n",
       "      <td>775.0</td>\n",
       "      <td>Asus</td>\n",
       "      <td>2 in 1 Convertible</td>\n",
       "      <td>15.6</td>\n",
       "      <td>Full HD / Touchscreen 1920x1080</td>\n",
       "      <td>Intel Core i7 7500U 2.7GHz</td>\n",
       "      <td>12GB</td>\n",
       "      <td>2TB HDD</td>\n",
       "      <td>Nvidia GeForce 940MX</td>\n",
       "      <td>Windows 10</td>\n",
       "      <td>2.3kg</td>\n",
       "      <td>44701.9200</td>\n",
       "      <td>mid</td>\n",
       "    </tr>\n",
       "  </tbody>\n",
       "</table>\n",
       "</div>"
      ],
      "text/plain": [
       "     Unnamed: 0 Company            TypeName Inches  \\\n",
       "69         69.0    Asus              Gaming   17.3   \n",
       "226       226.0    Dell            Notebook   15.6   \n",
       "235       235.0    Dell            Notebook   15.6   \n",
       "275       275.0    Dell            Notebook   15.6   \n",
       "285       285.0    Acer            Notebook   15.6   \n",
       "341       341.0  Lenovo            Notebook   15.6   \n",
       "392       392.0    Acer            Notebook   15.6   \n",
       "588       588.0  Lenovo            Notebook   15.6   \n",
       "591       591.0  Lenovo            Notebook   15.6   \n",
       "611       611.0    Dell              Gaming   15.6   \n",
       "731       731.0    Dell            Notebook   15.6   \n",
       "775       775.0    Asus  2 in 1 Convertible   15.6   \n",
       "\n",
       "                              ScreenResolution                          Cpu  \\\n",
       "69                           Full HD 1920x1080  Intel Core i7 7700HQ 2.8GHz   \n",
       "226            Full HD / Touchscreen 1920x1080   Intel Core i7 7500U 2.7GHz   \n",
       "235                          Full HD 1920x1080   Intel Core i7 7500U 2.7GHz   \n",
       "275                                   1366x768   Intel Core i7 7500U 2.7GHz   \n",
       "285  IPS Panel Full HD / Touchscreen 1920x1080   Intel Core i7 7500U 2.7GHz   \n",
       "341                          Full HD 1920x1080  AMD A12-Series 9720P 3.6GHz   \n",
       "392                         IPS Panel 1366x768   Intel Core i5 8250U 1.6GHz   \n",
       "588                       Touchscreen 1366x768   Intel Core i7 8550U 1.8GHz   \n",
       "591                          Full HD 1920x1080  AMD A12-Series 9720P 3.6GHz   \n",
       "611                          Full HD 1920x1080  Intel Core i7 6700HQ 2.6GHz   \n",
       "731                                   1366x768   Intel Core i5 7200U 2.5GHz   \n",
       "775            Full HD / Touchscreen 1920x1080   Intel Core i7 7500U 2.7GHz   \n",
       "\n",
       "      Ram     Memory                             Gpu       OpSys  Weight  \\\n",
       "69   12GB    1TB HDD      Nvidia GeForce GTX 1050 Ti       Linux     3kg   \n",
       "226  16GB    1TB HDD              AMD Radeon R7 M445  Windows 10   2.3kg   \n",
       "235  16GB  256GB SSD              AMD Radeon R7 M445       Linux  2.36kg   \n",
       "275  12GB    1TB HDD           Intel HD Graphics 620  Windows 10   2.3kg   \n",
       "285  12GB    1TB HDD           Intel HD Graphics 620  Windows 10  2.15kg   \n",
       "341  12GB    2TB HDD                  AMD Radeon 530  Windows 10   2.2kg   \n",
       "392  12GB    1TB HDD            Nvidia GeForce MX130  Windows 10   2.2kg   \n",
       "588  12GB    1TB HDD           Intel HD Graphics 620  Windows 10   2.2kg   \n",
       "591  12GB  512GB SSD                  AMD Radeon 530  Windows 10   2.2kg   \n",
       "611  16GB    1TB HDD  Nvidia GeForce GTX 960<U+039C>  Windows 10  2.59kg   \n",
       "731  12GB    1TB HDD           Intel HD Graphics 620  Windows 10  2.25kg   \n",
       "775  12GB    2TB HDD            Nvidia GeForce 940MX  Windows 10   2.3kg   \n",
       "\n",
       "          Price price_bins  \n",
       "69   50562.7200        mid  \n",
       "226  45768.0528        mid  \n",
       "235  47898.7200        mid  \n",
       "275  37992.3696        mid  \n",
       "285  35111.5200        mid  \n",
       "341  47898.7200        mid  \n",
       "392  36975.7872        mid  \n",
       "588  32447.5200        mid  \n",
       "591  50562.7200        mid  \n",
       "611  46833.6528        mid  \n",
       "731  34578.7200        mid  \n",
       "775  44701.9200        mid  "
      ]
     },
     "execution_count": 14,
     "metadata": {},
     "output_type": "execute_result"
    }
   ],
   "source": [
    "midbudget_laptops = df[(df['price_bins'] == 'mid') & (df['Ram'].isin(['12GB','16GB']))]\n",
    "print ('number of options left for me:   ', len(midbudget_laptops))\n",
    "midbudget_laptops"
   ]
  },
  {
   "cell_type": "code",
   "execution_count": 15,
   "id": "21157591",
   "metadata": {
    "execution": {
     "iopub.execute_input": "2024-08-03T06:31:22.856350Z",
     "iopub.status.busy": "2024-08-03T06:31:22.855860Z",
     "iopub.status.idle": "2024-08-03T06:31:22.877936Z",
     "shell.execute_reply": "2024-08-03T06:31:22.876090Z"
    },
    "papermill": {
     "duration": 0.039276,
     "end_time": "2024-08-03T06:31:22.880647",
     "exception": false,
     "start_time": "2024-08-03T06:31:22.841371",
     "status": "completed"
    },
    "tags": []
   },
   "outputs": [
    {
     "name": "stdout",
     "output_type": "stream",
     "text": [
      "------------mid-budget options----------\n",
      "----------------------------------------\n",
      "Company\n",
      "Dell      5\n",
      "Lenovo    3\n",
      "Asus      2\n",
      "Acer      2\n",
      "Name: count, dtype: int64\n",
      "----------------------------------------\n",
      "TypeName\n",
      "Notebook              9\n",
      "Gaming                2\n",
      "2 in 1 Convertible    1\n",
      "Name: count, dtype: int64\n",
      "----------------------------------------\n",
      "Inches\n",
      "15.6    11\n",
      "17.3     1\n",
      "Name: count, dtype: int64\n",
      "----------------------------------------\n",
      "ScreenResolution\n",
      "Full HD 1920x1080                            5\n",
      "Full HD / Touchscreen 1920x1080              2\n",
      "1366x768                                     2\n",
      "IPS Panel Full HD / Touchscreen 1920x1080    1\n",
      "IPS Panel 1366x768                           1\n",
      "Touchscreen 1366x768                         1\n",
      "Name: count, dtype: int64\n",
      "----------------------------------------\n",
      "Cpu\n",
      "Intel Core i7 7500U 2.7GHz     5\n",
      "AMD A12-Series 9720P 3.6GHz    2\n",
      "Intel Core i7 7700HQ 2.8GHz    1\n",
      "Intel Core i5 8250U 1.6GHz     1\n",
      "Intel Core i7 8550U 1.8GHz     1\n",
      "Intel Core i7 6700HQ 2.6GHz    1\n",
      "Intel Core i5 7200U 2.5GHz     1\n",
      "Name: count, dtype: int64\n",
      "----------------------------------------\n",
      "Ram\n",
      "12GB    9\n",
      "16GB    3\n",
      "Name: count, dtype: int64\n",
      "----------------------------------------\n",
      "Memory\n",
      "1TB HDD      8\n",
      "2TB HDD      2\n",
      "256GB SSD    1\n",
      "512GB SSD    1\n",
      "Name: count, dtype: int64\n",
      "----------------------------------------\n",
      "Gpu\n",
      "Intel HD Graphics 620             4\n",
      "AMD Radeon R7 M445                2\n",
      "AMD Radeon 530                    2\n",
      "Nvidia GeForce GTX 1050 Ti        1\n",
      "Nvidia GeForce MX130              1\n",
      "Nvidia GeForce GTX 960<U+039C>    1\n",
      "Nvidia GeForce 940MX              1\n",
      "Name: count, dtype: int64\n",
      "----------------------------------------\n",
      "OpSys\n",
      "Windows 10    10\n",
      "Linux          2\n",
      "Name: count, dtype: int64\n",
      "----------------------------------------\n",
      "Weight\n",
      "2.2kg     4\n",
      "2.3kg     3\n",
      "3kg       1\n",
      "2.36kg    1\n",
      "2.15kg    1\n",
      "2.59kg    1\n",
      "2.25kg    1\n",
      "Name: count, dtype: int64\n",
      "----------------------------------------\n",
      "Price\n",
      "50562.7200    2\n",
      "47898.7200    2\n",
      "45768.0528    1\n",
      "37992.3696    1\n",
      "35111.5200    1\n",
      "36975.7872    1\n",
      "32447.5200    1\n",
      "46833.6528    1\n",
      "34578.7200    1\n",
      "44701.9200    1\n",
      "Name: count, dtype: int64\n",
      "----------------------------------------\n",
      "price_bins\n",
      "mid    12\n",
      "Name: count, dtype: int64\n",
      "-------end of mid-budget options---------\n"
     ]
    }
   ],
   "source": [
    "listcols = ['Company', 'TypeName', 'Inches', 'ScreenResolution', \\\n",
    "            'Cpu', 'Ram', 'Memory', 'Gpu', 'OpSys', 'Weight', 'Price', 'price_bins']\n",
    "print ('------------mid-budget options----------')\n",
    "for item in listcols:\n",
    "    print ('----------------------------------------')\n",
    "    print (midbudget_laptops[item].value_counts().sort_values(ascending = False))\n",
    "print ('-------end of mid-budget options---------')"
   ]
  },
  {
   "cell_type": "markdown",
   "id": "a4072fc2",
   "metadata": {
    "papermill": {
     "duration": 0.013256,
     "end_time": "2024-08-03T06:31:22.907789",
     "exception": false,
     "start_time": "2024-08-03T06:31:22.894533",
     "status": "completed"
    },
    "tags": []
   },
   "source": [
    "# Finally, I print out the 3 options in the midbudget_laptop dataset, for my reference when I go out to the shops."
   ]
  },
  {
   "cell_type": "code",
   "execution_count": 16,
   "id": "b6aeae7a",
   "metadata": {
    "execution": {
     "iopub.execute_input": "2024-08-03T06:31:22.937018Z",
     "iopub.status.busy": "2024-08-03T06:31:22.936619Z",
     "iopub.status.idle": "2024-08-03T06:31:22.955716Z",
     "shell.execute_reply": "2024-08-03T06:31:22.954479Z"
    },
    "papermill": {
     "duration": 0.036579,
     "end_time": "2024-08-03T06:31:22.958279",
     "exception": false,
     "start_time": "2024-08-03T06:31:22.921700",
     "status": "completed"
    },
    "tags": []
   },
   "outputs": [
    {
     "data": {
      "text/html": [
       "<div>\n",
       "<style scoped>\n",
       "    .dataframe tbody tr th:only-of-type {\n",
       "        vertical-align: middle;\n",
       "    }\n",
       "\n",
       "    .dataframe tbody tr th {\n",
       "        vertical-align: top;\n",
       "    }\n",
       "\n",
       "    .dataframe thead th {\n",
       "        text-align: right;\n",
       "    }\n",
       "</style>\n",
       "<table border=\"1\" class=\"dataframe\">\n",
       "  <thead>\n",
       "    <tr style=\"text-align: right;\">\n",
       "      <th></th>\n",
       "      <th>Unnamed: 0</th>\n",
       "      <th>Company</th>\n",
       "      <th>TypeName</th>\n",
       "      <th>Inches</th>\n",
       "      <th>ScreenResolution</th>\n",
       "      <th>Cpu</th>\n",
       "      <th>Ram</th>\n",
       "      <th>Memory</th>\n",
       "      <th>Gpu</th>\n",
       "      <th>OpSys</th>\n",
       "      <th>Weight</th>\n",
       "      <th>Price</th>\n",
       "      <th>price_bins</th>\n",
       "    </tr>\n",
       "  </thead>\n",
       "  <tbody>\n",
       "    <tr>\n",
       "      <th>226</th>\n",
       "      <td>226.0</td>\n",
       "      <td>Dell</td>\n",
       "      <td>Notebook</td>\n",
       "      <td>15.6</td>\n",
       "      <td>Full HD / Touchscreen 1920x1080</td>\n",
       "      <td>Intel Core i7 7500U 2.7GHz</td>\n",
       "      <td>16GB</td>\n",
       "      <td>1TB HDD</td>\n",
       "      <td>AMD Radeon R7 M445</td>\n",
       "      <td>Windows 10</td>\n",
       "      <td>2.3kg</td>\n",
       "      <td>45768.0528</td>\n",
       "      <td>mid</td>\n",
       "    </tr>\n",
       "    <tr>\n",
       "      <th>235</th>\n",
       "      <td>235.0</td>\n",
       "      <td>Dell</td>\n",
       "      <td>Notebook</td>\n",
       "      <td>15.6</td>\n",
       "      <td>Full HD 1920x1080</td>\n",
       "      <td>Intel Core i7 7500U 2.7GHz</td>\n",
       "      <td>16GB</td>\n",
       "      <td>256GB SSD</td>\n",
       "      <td>AMD Radeon R7 M445</td>\n",
       "      <td>Linux</td>\n",
       "      <td>2.36kg</td>\n",
       "      <td>47898.7200</td>\n",
       "      <td>mid</td>\n",
       "    </tr>\n",
       "    <tr>\n",
       "      <th>611</th>\n",
       "      <td>611.0</td>\n",
       "      <td>Dell</td>\n",
       "      <td>Gaming</td>\n",
       "      <td>15.6</td>\n",
       "      <td>Full HD 1920x1080</td>\n",
       "      <td>Intel Core i7 6700HQ 2.6GHz</td>\n",
       "      <td>16GB</td>\n",
       "      <td>1TB HDD</td>\n",
       "      <td>Nvidia GeForce GTX 960&lt;U+039C&gt;</td>\n",
       "      <td>Windows 10</td>\n",
       "      <td>2.59kg</td>\n",
       "      <td>46833.6528</td>\n",
       "      <td>mid</td>\n",
       "    </tr>\n",
       "  </tbody>\n",
       "</table>\n",
       "</div>"
      ],
      "text/plain": [
       "     Unnamed: 0 Company  TypeName Inches                 ScreenResolution  \\\n",
       "226       226.0    Dell  Notebook   15.6  Full HD / Touchscreen 1920x1080   \n",
       "235       235.0    Dell  Notebook   15.6                Full HD 1920x1080   \n",
       "611       611.0    Dell    Gaming   15.6                Full HD 1920x1080   \n",
       "\n",
       "                             Cpu   Ram     Memory  \\\n",
       "226   Intel Core i7 7500U 2.7GHz  16GB    1TB HDD   \n",
       "235   Intel Core i7 7500U 2.7GHz  16GB  256GB SSD   \n",
       "611  Intel Core i7 6700HQ 2.6GHz  16GB    1TB HDD   \n",
       "\n",
       "                                Gpu       OpSys  Weight       Price price_bins  \n",
       "226              AMD Radeon R7 M445  Windows 10   2.3kg  45768.0528        mid  \n",
       "235              AMD Radeon R7 M445       Linux  2.36kg  47898.7200        mid  \n",
       "611  Nvidia GeForce GTX 960<U+039C>  Windows 10  2.59kg  46833.6528        mid  "
      ]
     },
     "execution_count": 16,
     "metadata": {},
     "output_type": "execute_result"
    }
   ],
   "source": [
    "final_choices = midbudget_laptops[midbudget_laptops['Ram'] == \"16GB\"]\n",
    "final_choices"
   ]
  },
  {
   "cell_type": "markdown",
   "id": "2f548218",
   "metadata": {
    "papermill": {
     "duration": 0.013698,
     "end_time": "2024-08-03T06:31:22.986313",
     "exception": false,
     "start_time": "2024-08-03T06:31:22.972615",
     "status": "completed"
    },
    "tags": []
   },
   "source": [
    "# My final choices are all Dell brand."
   ]
  },
  {
   "cell_type": "markdown",
   "id": "504804fd",
   "metadata": {
    "papermill": {
     "duration": 0.01335,
     "end_time": "2024-08-03T06:31:23.013709",
     "exception": false,
     "start_time": "2024-08-03T06:31:23.000359",
     "status": "completed"
    },
    "tags": []
   },
   "source": [
    "# Out of curiosity, I looked at the Asus price ranges."
   ]
  },
  {
   "cell_type": "code",
   "execution_count": 17,
   "id": "5aaefbda",
   "metadata": {
    "execution": {
     "iopub.execute_input": "2024-08-03T06:31:23.043084Z",
     "iopub.status.busy": "2024-08-03T06:31:23.042694Z",
     "iopub.status.idle": "2024-08-03T06:31:23.059366Z",
     "shell.execute_reply": "2024-08-03T06:31:23.058211Z"
    },
    "papermill": {
     "duration": 0.034898,
     "end_time": "2024-08-03T06:31:23.062494",
     "exception": false,
     "start_time": "2024-08-03T06:31:23.027596",
     "status": "completed"
    },
    "tags": []
   },
   "outputs": [
    {
     "name": "stdout",
     "output_type": "stream",
     "text": [
      "     price_bins       Price   Ram                          Cpu  \\\n",
      "8       premium   79653.600  16GB   Intel Core i7 8550U 1.8GHz   \n",
      "65      premium  105654.240  16GB  Intel Core i7 7700HQ 2.8GHz   \n",
      "88         high   77202.720  16GB  Intel Core i7 7700HQ 2.8GHz   \n",
      "110        high   67239.360  16GB   Intel Core i7 8550U 1.8GHz   \n",
      "211        high   74964.960  16GB  Intel Core i7 7700HQ 2.8GHz   \n",
      "247     premium  159786.720  16GB  Intel Core i7 7820HK 2.9GHz   \n",
      "251     premium   95850.720  16GB  Intel Core i7 7700HQ 2.8GHz   \n",
      "271     premium   82530.720  16GB          AMD Ryzen 1700 3GHz   \n",
      "299        high   78215.040  16GB   Intel Core i7 7500U 2.7GHz   \n",
      "301     premium  113060.160  16GB  Intel Core i7 7700HQ 2.8GHz   \n",
      "372     premium  117162.720  16GB          AMD Ryzen 1700 3GHz   \n",
      "384     premium   93181.392  16GB   Intel Core i7 7500U 2.7GHz   \n",
      "391     premium   84768.480  16GB  Intel Core i7 7700HQ 2.8GHz   \n",
      "401     premium   81465.120  16GB  Intel Core i7 7700HQ 2.8GHz   \n",
      "489     premium  103896.000  16GB   Intel Core i7 7500U 2.7GHz   \n",
      "519     premium   80133.120  16GB  Intel Core i7 7700HQ 2.8GHz   \n",
      "630     premium  101232.000  16GB   Intel Core i7 7500U 2.7GHz   \n",
      "781     premium  125208.000  16GB  Intel Core i7 6700HQ 2.6GHz   \n",
      "836     premium  128884.320  16GB  Intel Core i7 7700HQ 2.8GHz   \n",
      "840     premium   95850.720  16GB  Intel Core i7 6700HQ 2.6GHz   \n",
      "851     premium  101178.720  16GB  Intel Core i7 7700HQ 2.8GHz   \n",
      "974     premium  109218.672  16GB  Intel Core i7 7700HQ 2.8GHz   \n",
      "977     premium   95850.720  16GB   Intel Core i7 7500U 2.7GHz   \n",
      "979     premium   93186.720  16GB  Intel Core i7 7700HQ 2.8GHz   \n",
      "998     premium   95850.720  16GB  Intel Core i7 7700HQ 2.8GHz   \n",
      "1061       high   53173.440  16GB  Intel Core i7 6700HQ 2.6GHz   \n",
      "1099    premium  122490.720  16GB  Intel Core i7 6700HQ 2.6GHz   \n",
      "1109       high   71341.920  16GB  Intel Core i7 6700HQ 2.6GHz   \n",
      "1197    premium  114552.000  16GB  Intel Core i7 6700HQ 2.6GHz   \n",
      "1209    premium  130482.720  16GB  Intel Core i7 7700HQ 2.8GHz   \n",
      "1211    premium   93186.720  16GB  Intel Core i7 7700HQ 2.8GHz   \n",
      "1214    premium  103842.720  16GB  Intel Core i7 7700HQ 2.8GHz   \n",
      "1247    premium  123876.000  16GB  Intel Core i7 6700HQ 2.6GHz   \n",
      "1256    premium  101232.000  16GB  Intel Core i7 6700HQ 2.6GHz   \n",
      "\n",
      "                             Gpu            TypeName Inches  \n",
      "8           Nvidia GeForce MX150           Ultrabook     14  \n",
      "65    Nvidia GeForce GTX 1050 Ti           Ultrabook   15.6  \n",
      "88       Nvidia GeForce GTX 1060              Gaming   15.6  \n",
      "110         Nvidia GeForce MX150           Ultrabook   15.6  \n",
      "211      Nvidia GeForce GTX 1050              Gaming   17.3  \n",
      "247      Nvidia GeForce GTX 1080              Gaming   17.3  \n",
      "251      Nvidia GeForce GTX 980M              Gaming   17.3  \n",
      "271            AMD Radeon RX 580              Gaming   17.3  \n",
      "299         Nvidia GeForce 940MX           Ultrabook   15.6  \n",
      "301      Nvidia GeForce GTX 1070              Gaming   17.3  \n",
      "372            AMD Radeon RX 580              Gaming   17.3  \n",
      "384        Intel HD Graphics 620           Ultrabook   13.3  \n",
      "391   Nvidia GeForce GTX 1050 Ti              Gaming   17.3  \n",
      "401      Nvidia GeForce GTX 1050              Gaming   17.3  \n",
      "489        Intel HD Graphics 620           Ultrabook   12.5  \n",
      "519    Nvidia GeForce GTX1050 Ti              Gaming   17.3  \n",
      "630        Intel HD Graphics 620           Ultrabook     14  \n",
      "781      Nvidia GeForce GTX 1070              Gaming   17.3  \n",
      "836      Nvidia GeForce GTX 1070              Gaming   17.3  \n",
      "840      Nvidia GeForce GTX 1060              Gaming   17.3  \n",
      "851      Nvidia GeForce GTX 1060              Gaming   15.6  \n",
      "974      Nvidia GeForce GTX 1060              Gaming   17.3  \n",
      "977      Nvidia GeForce GTX 950M  2 in 1 Convertible   15.6  \n",
      "979   Nvidia GeForce GTX 1050 Ti              Gaming   17.3  \n",
      "998   Nvidia GeForce GTX 1050 Ti              Gaming   15.6  \n",
      "1061     Nvidia GeForce GTX 965M              Gaming   17.3  \n",
      "1099     Nvidia GeForce GTX 980M              Gaming   17.3  \n",
      "1109     Nvidia GeForce GTX 960M              Gaming   15.6  \n",
      "1197     Nvidia GeForce GTX 980M              Gaming   17.3  \n",
      "1209     Nvidia GeForce GTX 1070              Gaming   15.6  \n",
      "1211     Nvidia GeForce GTX 1060            Notebook   15.6  \n",
      "1214     Nvidia GeForce GTX 1060              Gaming   17.3  \n",
      "1247     Nvidia GeForce GTX 1070              Gaming   15.6  \n",
      "1256     Nvidia GeForce GTX 970M              Gaming   17.3  \n",
      "Number of Asus 16GB options:  34\n"
     ]
    }
   ],
   "source": [
    "asus_16gb = df[ (df['Company'] == 'Asus') & df['Ram'].isin(['16GB'])]\n",
    "print(asus_16gb[['price_bins','Price', 'Ram','Cpu', 'Gpu','TypeName', 'Inches']])\n",
    "print (\"Number of Asus 16GB options: \", len(asus_16gb))"
   ]
  },
  {
   "cell_type": "markdown",
   "id": "a9e5c96a",
   "metadata": {
    "papermill": {
     "duration": 0.013665,
     "end_time": "2024-08-03T06:31:23.090590",
     "exception": false,
     "start_time": "2024-08-03T06:31:23.076925",
     "status": "completed"
    },
    "tags": []
   },
   "source": [
    "# This ends the exploration. I need to save more money to get to the Asus high price range!"
   ]
  },
  {
   "cell_type": "code",
   "execution_count": null,
   "id": "1797a794",
   "metadata": {
    "papermill": {
     "duration": 0.013573,
     "end_time": "2024-08-03T06:31:23.118358",
     "exception": false,
     "start_time": "2024-08-03T06:31:23.104785",
     "status": "completed"
    },
    "tags": []
   },
   "outputs": [],
   "source": []
  }
 ],
 "metadata": {
  "kaggle": {
   "accelerator": "none",
   "dataSources": [
    {
     "datasetId": 2904981,
     "sourceId": 5006761,
     "sourceType": "datasetVersion"
    }
   ],
   "dockerImageVersionId": 30746,
   "isGpuEnabled": false,
   "isInternetEnabled": false,
   "language": "python",
   "sourceType": "notebook"
  },
  "kernelspec": {
   "display_name": "Python 3",
   "language": "python",
   "name": "python3"
  },
  "language_info": {
   "codemirror_mode": {
    "name": "ipython",
    "version": 3
   },
   "file_extension": ".py",
   "mimetype": "text/x-python",
   "name": "python",
   "nbconvert_exporter": "python",
   "pygments_lexer": "ipython3",
   "version": "3.10.13"
  },
  "papermill": {
   "default_parameters": {},
   "duration": 7.719266,
   "end_time": "2024-08-03T06:31:23.754356",
   "environment_variables": {},
   "exception": null,
   "input_path": "__notebook__.ipynb",
   "output_path": "__notebook__.ipynb",
   "parameters": {},
   "start_time": "2024-08-03T06:31:16.035090",
   "version": "2.5.0"
  }
 },
 "nbformat": 4,
 "nbformat_minor": 5
}
